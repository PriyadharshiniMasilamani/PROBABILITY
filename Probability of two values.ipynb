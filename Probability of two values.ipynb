{
 "cells": [
  {
   "cell_type": "code",
   "execution_count": 1,
   "id": "96eb7cec",
   "metadata": {},
   "outputs": [
    {
     "name": "stdout",
     "output_type": "stream",
     "text": [
      " \n",
      "                  PROBABILITY OF THE DATA        \n",
      "Name of the Data: vaccination\n",
      "Enter Mean value: 72\n",
      "Enter the Sigma value: 160\n",
      "Enter the value of x1: 154\n",
      "Enter the value of x2: 178\n",
      " \n",
      " Probability of the data is  0.05032514273865751 \n",
      "\n",
      " \n",
      " percentage of the probability:  5.0 %\n",
      "\n",
      "\n",
      "vaccination have less probability for 154 and 178\n"
     ]
    }
   ],
   "source": [
    "print(\" \\n                  PROBABILITY OF THE DATA        \")\n",
    "data_name = input(\"Name of the Data: \")\n",
    "from statistics import NormalDist\n",
    "mean = int(input(\"Enter Mean value: \"))\n",
    "sigma = int(input(\"Enter the Sigma value: \"))\n",
    "x1= int(input(\"Enter the value of x1: \"))\n",
    "x2 = int(input(\"Enter the value of x2: \"))\n",
    "nd = NormalDist(mean,sigma)\n",
    "if(x2 > x1):\n",
    "    pbty = (nd.cdf(x2) -nd.cdf(x1))\n",
    "else:\n",
    "    pbty = (nd.cdf(x1) -nd.cdf(x2))\n",
    "print(\" \\n Probability of the data is \",pbty,\"\\n\")\n",
    "pbty_round = round(pbty, 2)\n",
    "pbty_percent = pbty_round*100\n",
    "print(\" \\n percentage of the probability: \",pbty_percent ,\"%\")\n",
    "print(\"\\n\")\n",
    "if(pbty_percent > 50):\n",
    "    print(data_name,\"have more probability for\",x1,\"and\",x2)\n",
    "else:\n",
    "    print(data_name,\"have less probability for\",x1,\"and\",x2)\n",
    " \n",
    " "
   ]
  },
  {
   "cell_type": "code",
   "execution_count": null,
   "id": "fceb0089",
   "metadata": {},
   "outputs": [],
   "source": []
  }
 ],
 "metadata": {
  "kernelspec": {
   "display_name": "Python 3 (ipykernel)",
   "language": "python",
   "name": "python3"
  },
  "language_info": {
   "codemirror_mode": {
    "name": "ipython",
    "version": 3
   },
   "file_extension": ".py",
   "mimetype": "text/x-python",
   "name": "python",
   "nbconvert_exporter": "python",
   "pygments_lexer": "ipython3",
   "version": "3.9.7"
  }
 },
 "nbformat": 4,
 "nbformat_minor": 5
}
